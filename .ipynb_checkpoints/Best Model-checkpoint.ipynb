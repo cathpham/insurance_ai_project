{
 "cells": [
  {
   "cell_type": "code",
   "execution_count": 250,
   "id": "d0d80412",
   "metadata": {},
   "outputs": [
    {
     "name": "stdout",
     "output_type": "stream",
     "text": [
      "Requirement already satisfied: xgboost in /Library/Frameworks/Python.framework/Versions/3.11/lib/python3.11/site-packages (3.0.0)\n",
      "Requirement already satisfied: numpy in /Library/Frameworks/Python.framework/Versions/3.11/lib/python3.11/site-packages (from xgboost) (1.25.0)\n",
      "Requirement already satisfied: scipy in /Library/Frameworks/Python.framework/Versions/3.11/lib/python3.11/site-packages (from xgboost) (1.10.1)\n",
      "Requirement already satisfied: lightgbm in /Library/Frameworks/Python.framework/Versions/3.11/lib/python3.11/site-packages (4.6.0)\n",
      "Requirement already satisfied: numpy>=1.17.0 in /Library/Frameworks/Python.framework/Versions/3.11/lib/python3.11/site-packages (from lightgbm) (1.25.0)\n",
      "Requirement already satisfied: scipy in /Library/Frameworks/Python.framework/Versions/3.11/lib/python3.11/site-packages (from lightgbm) (1.10.1)\n",
      "Requirement already satisfied: scipy in /Library/Frameworks/Python.framework/Versions/3.11/lib/python3.11/site-packages (1.10.1)\n",
      "Requirement already satisfied: numpy<1.27.0,>=1.19.5 in /Library/Frameworks/Python.framework/Versions/3.11/lib/python3.11/site-packages (from scipy) (1.25.0)\n"
     ]
    }
   ],
   "source": [
    "import sys\n",
    "!{sys.executable} -m pip install xgboost\n",
    "!{sys.executable} -m pip install lightgbm\n",
    "!{sys.executable} -m pip install scipy"
   ]
  },
  {
   "cell_type": "code",
   "execution_count": 251,
   "id": "4a769bd8",
   "metadata": {},
   "outputs": [],
   "source": [
    "import pandas as pd\n",
    "import numpy as np\n",
    "import matplotlib.pyplot as plt\n",
    "import seaborn as sns\n",
    "# Convert data to machine learning\n",
    "from sklearn.preprocessing import StandardScaler, OneHotEncoder #normalize numeric & convert categorical -> numerical\n",
    "from sklearn.model_selection import cross_val_score, cross_val_predict, train_test_split # split data into training (80%) and testing (%20)\n",
    "from sklearn.metrics import mean_squared_error, r2_score, mean_absolute_error\n",
    "from sklearn.ensemble import GradientBoostingRegressor\n",
    "from sklearn.tree import DecisionTreeRegressor, export_text\n",
    "import xgboost as xgb_model\n",
    "import lightgbm as lgb_model\n",
    "import shap\n",
    "import joblib\n",
    "import scipy.stats as stats\n",
    "\n",
    "# Load data (adjust path as needed)\n",
    "df = pd.read_csv('insurance.csv')"
   ]
  },
  {
   "cell_type": "code",
   "execution_count": 252,
   "id": "16068c29",
   "metadata": {},
   "outputs": [
    {
     "data": {
      "text/html": [
       "<div>\n",
       "<style scoped>\n",
       "    .dataframe tbody tr th:only-of-type {\n",
       "        vertical-align: middle;\n",
       "    }\n",
       "\n",
       "    .dataframe tbody tr th {\n",
       "        vertical-align: top;\n",
       "    }\n",
       "\n",
       "    .dataframe thead th {\n",
       "        text-align: right;\n",
       "    }\n",
       "</style>\n",
       "<table border=\"1\" class=\"dataframe\">\n",
       "  <thead>\n",
       "    <tr style=\"text-align: right;\">\n",
       "      <th></th>\n",
       "      <th>age</th>\n",
       "      <th>sex</th>\n",
       "      <th>bmi</th>\n",
       "      <th>children</th>\n",
       "      <th>smoker</th>\n",
       "      <th>charges</th>\n",
       "      <th>region_northwest</th>\n",
       "      <th>region_southeast</th>\n",
       "      <th>region_southwest</th>\n",
       "    </tr>\n",
       "  </thead>\n",
       "  <tbody>\n",
       "    <tr>\n",
       "      <th>0</th>\n",
       "      <td>19</td>\n",
       "      <td>0</td>\n",
       "      <td>27.900</td>\n",
       "      <td>0</td>\n",
       "      <td>1</td>\n",
       "      <td>16884.92400</td>\n",
       "      <td>False</td>\n",
       "      <td>False</td>\n",
       "      <td>True</td>\n",
       "    </tr>\n",
       "    <tr>\n",
       "      <th>1</th>\n",
       "      <td>18</td>\n",
       "      <td>1</td>\n",
       "      <td>33.770</td>\n",
       "      <td>1</td>\n",
       "      <td>0</td>\n",
       "      <td>1725.55230</td>\n",
       "      <td>False</td>\n",
       "      <td>True</td>\n",
       "      <td>False</td>\n",
       "    </tr>\n",
       "    <tr>\n",
       "      <th>2</th>\n",
       "      <td>28</td>\n",
       "      <td>1</td>\n",
       "      <td>33.000</td>\n",
       "      <td>3</td>\n",
       "      <td>0</td>\n",
       "      <td>4449.46200</td>\n",
       "      <td>False</td>\n",
       "      <td>True</td>\n",
       "      <td>False</td>\n",
       "    </tr>\n",
       "    <tr>\n",
       "      <th>3</th>\n",
       "      <td>33</td>\n",
       "      <td>1</td>\n",
       "      <td>22.705</td>\n",
       "      <td>0</td>\n",
       "      <td>0</td>\n",
       "      <td>21984.47061</td>\n",
       "      <td>True</td>\n",
       "      <td>False</td>\n",
       "      <td>False</td>\n",
       "    </tr>\n",
       "    <tr>\n",
       "      <th>4</th>\n",
       "      <td>32</td>\n",
       "      <td>1</td>\n",
       "      <td>28.880</td>\n",
       "      <td>0</td>\n",
       "      <td>0</td>\n",
       "      <td>3866.85520</td>\n",
       "      <td>True</td>\n",
       "      <td>False</td>\n",
       "      <td>False</td>\n",
       "    </tr>\n",
       "  </tbody>\n",
       "</table>\n",
       "</div>"
      ],
      "text/plain": [
       "   age  sex     bmi  children  smoker      charges  region_northwest  \\\n",
       "0   19    0  27.900         0       1  16884.92400             False   \n",
       "1   18    1  33.770         1       0   1725.55230             False   \n",
       "2   28    1  33.000         3       0   4449.46200             False   \n",
       "3   33    1  22.705         0       0  21984.47061              True   \n",
       "4   32    1  28.880         0       0   3866.85520              True   \n",
       "\n",
       "   region_southeast  region_southwest  \n",
       "0             False              True  \n",
       "1              True             False  \n",
       "2              True             False  \n",
       "3             False             False  \n",
       "4             False             False  "
      ]
     },
     "execution_count": 252,
     "metadata": {},
     "output_type": "execute_result"
    }
   ],
   "source": [
    "# Convert categorical variables into numerical format\n",
    "df['sex'] = df['sex'].map({'male': 1, 'female': 0})\n",
    "df['smoker'] = df['smoker'].map({'yes': 1, 'no': 0})\n",
    "\n",
    "# One-hot encode 'region' -> category to number\n",
    "df = pd.get_dummies(df, columns=['region'], drop_first=True) #convert region into 3 new categories (the other left can be 4)\n",
    "\n",
    "# Define features (X) and target variable (y)\n",
    "X = df.drop(columns=['charges'])  # Independent variables\n",
    "y = df['charges']  # Target variable\n",
    "\n",
    "# Log-transform the target\n",
    "y_log = np.log(y)\n",
    "\n",
    "joblib.dump(X, 'X.pkl')\n",
    "joblib.dump(y, 'y.pkl')\n",
    "\n",
    "df.head()"
   ]
  },
  {
   "cell_type": "code",
   "execution_count": 229,
   "id": "9c9c911c",
   "metadata": {},
   "outputs": [],
   "source": [
    "# Function to calculate metrics\n",
    "def calculate_metrics(y_true, y_pred):\n",
    "    rmse = np.sqrt(mean_squared_error(y_true, y_pred))\n",
    "    mae = mean_absolute_error(y_true, y_pred)\n",
    "    r2 = r2_score(y_true, y_pred)\n",
    "    mape = np.mean(np.abs((y_true - y_pred) / y_true)) * 100\n",
    "    return rmse, mae, r2, mape"
   ]
  },
  {
   "cell_type": "code",
   "execution_count": 230,
   "id": "0a126dbb",
   "metadata": {},
   "outputs": [
    {
     "name": "stdout",
     "output_type": "stream",
     "text": [
      "Results for Gradient Boosting:\n",
      "    RMSE=4690.20, MAE=2173.81, R²=0.8499, MAPE=17.05%\n"
     ]
    }
   ],
   "source": [
    "# Gradient Boosting\n",
    "# Models to evaluate\n",
    "gb = GradientBoostingRegressor(n_estimators=100, learning_rate=0.1, max_depth=3, random_state=55)\n",
    "gb.fit(X, y_log)\n",
    "\n",
    "# 5-Fold CV\n",
    "y_true_gb = y  # Actual charges in original scale\n",
    "log_pred_gb = cross_val_predict(gb, X, y_log, cv=5)\n",
    "    \n",
    "y_pred_gb = np.exp(log_pred_gb)\n",
    "rmse, mae, r2, mape = calculate_metrics(y_true_gb, y_pred_gb)\n",
    "\n",
    "r2_gb = r2\n",
    "\n",
    "# Print results\n",
    "print(\"Results for Gradient Boosting:\")\n",
    "print(f\"    RMSE={rmse:.2f}, MAE={mae:.2f}, R²={r2:.4f}, MAPE={mape:.2f}%\")"
   ]
  },
  {
   "cell_type": "code",
   "execution_count": 231,
   "id": "c7d87438",
   "metadata": {},
   "outputs": [
    {
     "name": "stdout",
     "output_type": "stream",
     "text": [
      "0.0006330213095723195\n"
     ]
    },
    {
     "data": {
      "text/plain": [
       "(array([ 4.,  0.,  0.,  6.,  5.,  6.,  5.,  2., 10., 13., 11., 20., 17.,\n",
       "        23., 42., 45., 35., 48., 40., 52., 45., 49., 55., 47., 47., 37.,\n",
       "        42., 39., 45., 35., 29., 21., 31., 20., 18., 17., 11.,  6.,  3.,\n",
       "         3.,  0.,  4.,  2.,  3.,  1.,  1.,  2.,  1.,  0.,  2.]),\n",
       " array([9.02677096, 9.0299533 , 9.03313564, 9.03631797, 9.03950031,\n",
       "        9.04268265, 9.04586499, 9.04904733, 9.05222967, 9.05541201,\n",
       "        9.05859435, 9.06177668, 9.06495902, 9.06814136, 9.0713237 ,\n",
       "        9.07450604, 9.07768838, 9.08087072, 9.08405305, 9.08723539,\n",
       "        9.09041773, 9.09360007, 9.09678241, 9.09996475, 9.10314709,\n",
       "        9.10632943, 9.10951176, 9.1126941 , 9.11587644, 9.11905878,\n",
       "        9.12224112, 9.12542346, 9.1286058 , 9.13178814, 9.13497047,\n",
       "        9.13815281, 9.14133515, 9.14451749, 9.14769983, 9.15088217,\n",
       "        9.15406451, 9.15724685, 9.16042918, 9.16361152, 9.16679386,\n",
       "        9.1699762 , 9.17315854, 9.17634088, 9.17952322, 9.18270555,\n",
       "        9.18588789]),\n",
       " <BarContainer object of 50 artists>)"
      ]
     },
     "execution_count": 231,
     "metadata": {},
     "output_type": "execute_result"
    },
    {
     "data": {
      "image/png": "[encoded data removed]",
      "text/plain": [
       "<Figure size 640x480 with 1 Axes>"
      ]
     },
     "metadata": {},
     "output_type": "display_data"
    }
   ],
   "source": [
    "resampled_stat = []\n",
    "x = np.array(y_log)\n",
    "Nboot = 1000\n",
    "for k in range(Nboot):\n",
    "    index = np.random.randint(0, len(x), len(x))\n",
    "    sample = x[index]\n",
    "    bstatistic = np.mean(sample)\n",
    "    resampled_stat.append(bstatistic)\n",
    "\n",
    "resampled_stat = np.array(resampled_stat)\n",
    "var_y = np.var(resampled_stat)\n",
    "print(var_y)\n",
    "\n",
    "plt.hist(resampled_stat, bins=50)\n"
   ]
  },
  {
   "cell_type": "code",
   "execution_count": 232,
   "id": "c6a10aa9",
   "metadata": {},
   "outputs": [
    {
     "data": {
      "text/plain": [
       "9.098658729424766"
      ]
     },
     "execution_count": 232,
     "metadata": {},
     "output_type": "execute_result"
    }
   ],
   "source": [
    "np.mean(y_log)"
   ]
  },
  {
   "cell_type": "code",
   "execution_count": 233,
   "id": "ad7a9067",
   "metadata": {},
   "outputs": [
    {
     "data": {
      "text/plain": [
       "9.098658729424766"
      ]
     },
     "execution_count": 233,
     "metadata": {},
     "output_type": "execute_result"
    }
   ],
   "source": [
    "np.mean(x)"
   ]
  },
  {
   "cell_type": "code",
   "execution_count": 234,
   "id": "8fe26a3a",
   "metadata": {},
   "outputs": [
    {
     "data": {
      "text/plain": [
       "0.9191834287056958"
      ]
     },
     "execution_count": 234,
     "metadata": {},
     "output_type": "execute_result"
    }
   ],
   "source": [
    "np.std(x)"
   ]
  },
  {
   "cell_type": "code",
   "execution_count": 235,
   "id": "539b1bbe",
   "metadata": {},
   "outputs": [
    {
     "name": "stdout",
     "output_type": "stream",
     "text": [
      "Results for XGBoost:\n",
      "    RMSE=4596.56, MAE=2138.65, R²=0.8558, MAPE=16.85%\n"
     ]
    }
   ],
   "source": [
    "# XGBoost\n",
    "# Models to evaluate\n",
    "xgb = xgb_model.XGBRegressor(n_estimators=100, learning_rate=0.1, max_depth=3, random_state=55)\n",
    "xgb.fit(X, y_log)\n",
    "\n",
    "# 5-Fold CV\n",
    "y_true_xgb = y  # Actual charges in original scale\n",
    "log_pred_xgb = cross_val_predict(xgb, X, y_log, cv=5)\n",
    "    \n",
    "y_pred_xgb = np.exp(log_pred_xgb)\n",
    "rmse, mae, r2, mape = calculate_metrics(y_true_xgb, y_pred_xgb)\n",
    "\n",
    "r2_xgb = r2\n",
    "\n",
    "# Print results\n",
    "print(\"Results for XGBoost:\")\n",
    "print(f\"    RMSE={rmse:.2f}, MAE={mae:.2f}, R²={r2:.4f}, MAPE={mape:.2f}%\")"
   ]
  },
  {
   "cell_type": "code",
   "execution_count": 236,
   "id": "97dbee7f",
   "metadata": {},
   "outputs": [
    {
     "name": "stdout",
     "output_type": "stream",
     "text": [
      "Results for LightGBM:\n",
      "    RMSE=4631.93, MAE=2165.67, R²=0.8536, MAPE=16.68%\n"
     ]
    }
   ],
   "source": [
    "# LightGBM\n",
    "# Models to evaluate\n",
    "lgb = lgb_model.LGBMRegressor(n_estimators=100, learning_rate=0.1, max_depth=3, random_state=55, verbose=-1)\n",
    "lgb.fit(X, y_log)\n",
    "\n",
    "# 5-Fold CV\n",
    "y_true_lgb = y  # Actual charges in original scale\n",
    "log_pred_lgb = cross_val_predict(lgb, X, y_log, cv=5)\n",
    "    \n",
    "y_pred_lgb = np.exp(log_pred_lgb)\n",
    "rmse, mae, r2, mape = calculate_metrics(y_true_lgb, y_pred_lgb)\n",
    "\n",
    "r2_lgb = r2\n",
    "\n",
    "# Print results\n",
    "print(\"Results for LightGBM:\")\n",
    "print(f\"    RMSE={rmse:.2f}, MAE={mae:.2f}, R²={r2:.4f}, MAPE={mape:.2f}%\")"
   ]
  },
  {
   "cell_type": "code",
   "execution_count": 237,
   "id": "52912dc7",
   "metadata": {},
   "outputs": [
    {
     "name": "stdout",
     "output_type": "stream",
     "text": [
      "Results for Ensemble:\n",
      "    RMSE=4604.84, MAE=2145.24, R²=0.8553, MAPE=16.77%\n"
     ]
    }
   ],
   "source": [
    "# Ensemble (Weighting average)\n",
    "# Calculate weights\n",
    "w_gb = r2_gb/(r2_gb + r2_xgb + r2_lgb)\n",
    "w_xgb = r2_xgb/(r2_gb + r2_xgb + r2_lgb)\n",
    "w_lgb = r2_lgb/(r2_gb + r2_xgb + r2_lgb)\n",
    "\n",
    "# Ensemble\n",
    "y_pred_ensemble = w_gb*y_pred_gb + w_xgb*y_pred_xgb + w_lgb*y_pred_lgb\n",
    "rmse, mae, r2, mape = calculate_metrics(y, y_pred_ensemble)\n",
    "\n",
    "# Print results\n",
    "print(\"Results for Ensemble:\")\n",
    "print(f\"    RMSE={rmse:.2f}, MAE={mae:.2f}, R²={r2:.4f}, MAPE={mape:.2f}%\")\n"
   ]
  },
  {
   "cell_type": "code",
   "execution_count": 239,
   "id": "4f386970",
   "metadata": {
    "scrolled": true
   },
   "outputs": [
    {
     "data": {
      "text/plain": [
       "['ensemble_weights.pkl']"
      ]
     },
     "execution_count": 239,
     "metadata": {},
     "output_type": "execute_result"
    }
   ],
   "source": [
    "# Save models and scaler\n",
    "joblib.dump(gb, 'gb_model.pkl')\n",
    "joblib.dump(xgb, 'xgb_model.pkl')\n",
    "joblib.dump(lgb, 'lgb_model.pkl')\n",
    "\n",
    "# Save weights for ensemble\n",
    "weights = {'w_gb': w_gb, 'w_xgb': w_xgb, 'w_lgb': w_lgb}\n",
    "joblib.dump(weights, 'ensemble_weights.pkl')"
   ]
  },
  {
   "cell_type": "code",
   "execution_count": 240,
   "id": "ea404821",
   "metadata": {},
   "outputs": [
    {
     "name": "stdout",
     "output_type": "stream",
     "text": [
      "{'age': 50, 'bmi': 30, 'children': 2, 'smoker': 0, 'sex': 1, 'region_northwest': 0, 'region_southeast': 1, 'region_southwest': 0}\n",
      "Estimated value (GB): $10719.70\n",
      "Estimated value (XGB): $10525.32\n",
      "Estimated value (LGB): $10552.63\n",
      "Estimated value (Ensemble): $10598.63\n"
     ]
    }
   ],
   "source": [
    "# Example: new person data as dictionary\n",
    "new_person = {\n",
    "    'age': 50,\n",
    "    'bmi': 30,\n",
    "    'children': 2,\n",
    "    'smoker': 0,\n",
    "    'sex': 1,\n",
    "    'region_northwest': 0,\n",
    "    'region_southeast': 1,\n",
    "    'region_southwest': 0\n",
    "}\n",
    "\n",
    "# Convert to DataFrame and reorder columns to match training data\n",
    "new_X = pd.DataFrame([new_person])\n",
    "new_X = new_X[X.columns]  # Reorder columns to match X\n",
    "\n",
    "# Predict log-transformed output for each model\n",
    "log_gb = gb.predict(new_X)\n",
    "log_xgb = xgb.predict(new_X)\n",
    "log_lgb = lgb.predict(new_X)\n",
    "\n",
    "# Combine with weights (already calculated)\n",
    "log_ensemble = w_gb * log_gb + w_xgb * log_xgb + w_lgb * log_lgb\n",
    "\n",
    "# Convert back to original scale\n",
    "gb_prediction = np.exp(log_gb)\n",
    "xgb_prediction = np.exp(log_xgb)\n",
    "lgb_prediction = np.exp(log_lgb)\n",
    "ensemble_prediction = np.exp(log_ensemble)\n",
    "print(new_person)\n",
    "print(f\"Estimated value (GB): ${gb_prediction[0]:.2f}\")\n",
    "print(f\"Estimated value (XGB): ${xgb_prediction[0]:.2f}\")\n",
    "print(f\"Estimated value (LGB): ${lgb_prediction[0]:.2f}\")\n",
    "print(f\"Estimated value (Ensemble): ${ensemble_prediction[0]:.2f}\")\n"
   ]
  },
  {
   "cell_type": "code",
   "execution_count": 248,
   "id": "da91f057",
   "metadata": {},
   "outputs": [
    {
     "name": "stdout",
     "output_type": "stream",
     "text": [
      "Total claim cost prediction: $16922304.12\n"
     ]
    }
   ],
   "source": [
    "# Total claim cost prediction\n",
    "log_gb_total = gb.predict(X)\n",
    "log_xgb_total = xgb.predict(X)\n",
    "log_lgb_total = lgb.predict(X)\n",
    "\n",
    "log_ensemble_total = w_gb * log_gb_total + w_xgb * log_xgb_total + w_lgb * log_lgb_total\n",
    "\n",
    "ensemble_prediction_total = np.exp(log_ensemble_total)\n",
    "\n",
    "print(f\"Total claim cost prediction: ${sum(ensemble_prediction_total):.2f}\")"
   ]
  },
  {
   "cell_type": "code",
   "execution_count": 243,
   "id": "820db2fa",
   "metadata": {},
   "outputs": [
    {
     "name": "stdout",
     "output_type": "stream",
     "text": [
      "26638.229363430677\n",
      "26524.406\n",
      "23689.028812132747\n"
     ]
    }
   ],
   "source": [
    "# Method 1: Quantile Regression\n",
    "def quantile_regression(model, X, y, alpha):  \n",
    "    if model == 'gb':\n",
    "        quantile_regression = GradientBoostingRegressor(n_estimators=100, learning_rate=0.1, max_depth=3, \n",
    "                                                        loss='quantile', alpha=alpha, random_state=55)\n",
    "    elif model == 'xgb':\n",
    "        quantile_regression = xgb_model.XGBRegressor(n_estimators=100, learning_rate=0.1, max_depth=3, \n",
    "                                               objective='reg:quantileerror', quantile_alpha=alpha, random_state=55)\n",
    "    elif model == 'lgb':\n",
    "        quantile_regression = lgb_model.LGBMRegressor(n_estimators=100, learning_rate=0.1, max_depth=3, \n",
    "                                               objective='quantile', alpha=alpha, random_state=55)\n",
    "    quantile_regression.fit(X, y)\n",
    "    return quantile_regression\n",
    "\n",
    "method_one_log = quantile_regression('gb', X, y_log, 0.95)\n",
    "method_one_log_pred = method_one_log.predict(new_X)\n",
    "method_one = np.exp(method_one_log_pred)\n",
    "print(method_one[0])\n",
    "method_one_log = quantile_regression('xgb', X, y_log, 0.95)\n",
    "method_one_log_pred = method_one_log.predict(new_X)\n",
    "method_one = np.exp(method_one_log_pred)\n",
    "print(method_one[0])\n",
    "method_one_log = quantile_regression('lgb', X, y_log, 0.95)\n",
    "method_one_log_pred = method_one_log.predict(new_X)\n",
    "method_one = np.exp(method_one_log_pred)\n",
    "print(method_one[0])"
   ]
  },
  {
   "cell_type": "code",
   "execution_count": 256,
   "id": "e473f992",
   "metadata": {},
   "outputs": [
    {
     "name": "stdout",
     "output_type": "stream",
     "text": [
      "  Scenario ['Age', 'BMI', 'Children', 'Smoker']: $12579.97\n",
      "  Scenario ['Age', 'BMI', 'Children', 'Smoker']: $10615.63\n",
      "  Scenario ['Age', 'BMI', 'Children', 'Smoker']: $12674.06\n",
      "  Scenario ['Age', 'BMI', 'Children', 'Smoker']: $30051.91\n"
     ]
    }
   ],
   "source": [
    "# Method 2: Scenario-based\n",
    "def scenario(new_person):\n",
    "    scenario = []\n",
    "    \n",
    "    # Scenario 1: Increase age\n",
    "    max_age = df['age'].max()\n",
    "    person_age = new_person.copy()\n",
    "    person_age['age'] = min(max_age, person_age['age'] + 5)\n",
    "    scenario.append(person_age)\n",
    "    \n",
    "    # Scenario 2: Increase BMI\n",
    "    max_bmi = df['bmi'].max()\n",
    "    person_bmi = new_person.copy()\n",
    "    person_bmi['bmi'] = min(max_bmi, person_bmi['bmi'] + 10)\n",
    "    scenario.append(person_bmi)\n",
    "    \n",
    "    # Scenario 3: Increase children\n",
    "    max_children = df['children'].max()\n",
    "    person_children = new_person.copy()\n",
    "    person_children['children'] = min(max_children, person_children['children'] + 2)\n",
    "    scenario.append(person_children)\n",
    "    \n",
    "    # Scenario 4: Set smoker to 1\n",
    "    person_smoker = new_person.copy()\n",
    "    if person_smoker['smoker'] == 0:\n",
    "        person_smoker['smoker'] = 1\n",
    "    scenario.append(person_smoker)\n",
    "    \n",
    "    return scenario\n",
    "\n",
    "# Run scenarios with Gradient Boosting model\n",
    "scenarios = scenario(new_person)  # Pass X to the function\n",
    "for i in scenarios:\n",
    "    i_df = pd.DataFrame([i])[X.columns]\n",
    "    pred_log = xgb.predict(i_df)\n",
    "    pred = np.exp(pred_log)[0]\n",
    "    print(f\"  Scenario {['Age', 'BMI', 'Children', 'Smoker']}: ${pred:.2f}\")"
   ]
  },
  {
   "cell_type": "code",
   "execution_count": 245,
   "id": "8d7cd140",
   "metadata": {},
   "outputs": [
    {
     "name": "stdout",
     "output_type": "stream",
     "text": [
      "Upper predicted cost: $ 18335.367345070725\n"
     ]
    }
   ],
   "source": [
    "# Method 3: Residual\n",
    "\n",
    "def residual (model, new_X, X, y):\n",
    "    # Tree access + var(y)\n",
    "    if model == 'gb':\n",
    "        log_ind = gb.predict(new_X)\n",
    "        log_total = gb.predict(X)\n",
    "        tree = np.array([tree[0].predict(new_X.to_numpy())[0] for tree in gb.estimators_])\n",
    "    elif model == 'xgb':\n",
    "        log_ind = xgb.predict(new_X)\n",
    "        log_total = xgb.predict(X)\n",
    "        tree = np.array([xgb.get_booster().predict(xgb.DMatrix(new_X, feature_names=new_X.columns.tolist()), iteration_range=(i, i+1))[0] for i in range(xgb.get_booster().num_boosted_rounds())])\n",
    "\n",
    "    elif model == 'lgb':\n",
    "        log_ind = lgb_model.predict(new_X)\n",
    "        log_total = lgb_model.predict(X)\n",
    "        tree = np.array([lgb.booster_.predict(new_X.to_numpy(), start_iteration=i, num_iteration=1)[0] for i in range(lgb.booster_.num_trees())])\n",
    "    \n",
    "    var_y = np.var(tree, ddof=1)\n",
    "    y_true_log = np.log(y)\n",
    "    residuals = y_true_log - log_total  # In-sample, conventional order\n",
    "    var_res = np.var(residuals, ddof=1)\n",
    "\n",
    "    # SE: Combine variances\n",
    "    se = np.sqrt(var_y + var_res)\n",
    "\n",
    "    # Upper bound: Compute in log-scale, then exponentiate\n",
    "    z_score = stats.norm.ppf(0.95)  # 1.645 for 95% one-sided CI\n",
    "    log_ub = log_ind[0] + z_score * se\n",
    "    ub = np.exp(log_ub)\n",
    "    \n",
    "    return ub\n",
    "\n",
    "method_three = residual('gb', new_X, X, y)\n",
    "print(\"Upper predicted cost: $\", method_three)"
   ]
  },
  {
   "cell_type": "code",
   "execution_count": null,
   "id": "0073becd",
   "metadata": {},
   "outputs": [],
   "source": [
    "def upperbound (model, X, y, alpha, new_X):\n",
    "    method_one_log = quantile_regression(model, X, y, alpha)\n",
    "    method_one_log_pred = method_one_log.predict(new_X)\n",
    "    method_one = np.exp(method_one_log_pred)\n",
    "    \n",
    "    method_three = residual(model, new_X, X, y)\n",
    "    \n",
    "    return method_one, method_three"
   ]
  }
 ],
 "metadata": {
  "kernelspec": {
   "display_name": "Python 3 (ipykernel)",
   "language": "python",
   "name": "python3"
  },
  "language_info": {
   "codemirror_mode": {
    "name": "ipython",
    "version": 3
   },
   "file_extension": ".py",
   "mimetype": "text/x-python",
   "name": "python",
   "nbconvert_exporter": "python",
   "pygments_lexer": "ipython3",
   "version": "3.11.4"
  }
 },
 "nbformat": 4,
 "nbformat_minor": 5
}
