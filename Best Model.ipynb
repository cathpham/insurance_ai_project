{
 "cells": [
  {
   "cell_type": "code",
   "execution_count": 1,
   "id": "d0d80412",
   "metadata": {},
   "outputs": [
    {
     "name": "stdout",
     "output_type": "stream",
     "text": [
      "Requirement already satisfied: xgboost in /Library/Frameworks/Python.framework/Versions/3.11/lib/python3.11/site-packages (3.0.0)\n",
      "Requirement already satisfied: numpy in /Library/Frameworks/Python.framework/Versions/3.11/lib/python3.11/site-packages (from xgboost) (1.26.4)\n",
      "Requirement already satisfied: scipy in /Library/Frameworks/Python.framework/Versions/3.11/lib/python3.11/site-packages (from xgboost) (1.10.1)\n",
      "\n",
      "\u001b[1m[\u001b[0m\u001b[34;49mnotice\u001b[0m\u001b[1;39;49m]\u001b[0m\u001b[39;49m A new release of pip is available: \u001b[0m\u001b[31;49m25.1.1\u001b[0m\u001b[39;49m -> \u001b[0m\u001b[32;49m25.2\u001b[0m\n",
      "\u001b[1m[\u001b[0m\u001b[34;49mnotice\u001b[0m\u001b[1;39;49m]\u001b[0m\u001b[39;49m To update, run: \u001b[0m\u001b[32;49mpip install --upgrade pip\u001b[0m\n",
      "Requirement already satisfied: lightgbm in /Library/Frameworks/Python.framework/Versions/3.11/lib/python3.11/site-packages (4.6.0)\n",
      "Requirement already satisfied: numpy>=1.17.0 in /Library/Frameworks/Python.framework/Versions/3.11/lib/python3.11/site-packages (from lightgbm) (1.26.4)\n",
      "Requirement already satisfied: scipy in /Library/Frameworks/Python.framework/Versions/3.11/lib/python3.11/site-packages (from lightgbm) (1.10.1)\n",
      "\n",
      "\u001b[1m[\u001b[0m\u001b[34;49mnotice\u001b[0m\u001b[1;39;49m]\u001b[0m\u001b[39;49m A new release of pip is available: \u001b[0m\u001b[31;49m25.1.1\u001b[0m\u001b[39;49m -> \u001b[0m\u001b[32;49m25.2\u001b[0m\n",
      "\u001b[1m[\u001b[0m\u001b[34;49mnotice\u001b[0m\u001b[1;39;49m]\u001b[0m\u001b[39;49m To update, run: \u001b[0m\u001b[32;49mpip install --upgrade pip\u001b[0m\n",
      "Requirement already satisfied: scipy in /Library/Frameworks/Python.framework/Versions/3.11/lib/python3.11/site-packages (1.10.1)\n",
      "Requirement already satisfied: numpy<1.27.0,>=1.19.5 in /Library/Frameworks/Python.framework/Versions/3.11/lib/python3.11/site-packages (from scipy) (1.26.4)\n",
      "\n",
      "\u001b[1m[\u001b[0m\u001b[34;49mnotice\u001b[0m\u001b[1;39;49m]\u001b[0m\u001b[39;49m A new release of pip is available: \u001b[0m\u001b[31;49m25.1.1\u001b[0m\u001b[39;49m -> \u001b[0m\u001b[32;49m25.2\u001b[0m\n",
      "\u001b[1m[\u001b[0m\u001b[34;49mnotice\u001b[0m\u001b[1;39;49m]\u001b[0m\u001b[39;49m To update, run: \u001b[0m\u001b[32;49mpip install --upgrade pip\u001b[0m\n"
     ]
    }
   ],
   "source": [
    "import sys\n",
    "!{sys.executable} -m pip install xgboost\n",
    "!{sys.executable} -m pip install lightgbm\n",
    "!{sys.executable} -m pip install scipy"
   ]
  },
  {
   "cell_type": "code",
   "execution_count": 2,
   "id": "4a769bd8",
   "metadata": {},
   "outputs": [],
   "source": [
    "import pandas as pd\n",
    "import numpy as np\n",
    "import matplotlib.pyplot as plt\n",
    "import seaborn as sns\n",
    "# Convert data to machine learning\n",
    "from sklearn.preprocessing import StandardScaler, OneHotEncoder #normalize numeric & convert categorical -> numerical\n",
    "from sklearn.model_selection import cross_val_score, cross_val_predict, train_test_split # split data into training (80%) and testing (%20)\n",
    "from sklearn.metrics import mean_squared_error, r2_score, mean_absolute_error\n",
    "from sklearn.ensemble import GradientBoostingRegressor\n",
    "from sklearn.tree import DecisionTreeRegressor, export_text\n",
    "import xgboost as xgb_model\n",
    "import lightgbm as lgb_model\n",
    "import shap\n",
    "import joblib\n",
    "import scipy.stats as stats\n",
    "\n",
    "# Load data (adjust path as needed)\n",
    "df = pd.read_csv('insurance.csv')"
   ]
  },
  {
   "cell_type": "code",
   "execution_count": 3,
   "id": "16068c29",
   "metadata": {},
   "outputs": [
    {
     "data": {
      "text/html": [
       "<div>\n",
       "<style scoped>\n",
       "    .dataframe tbody tr th:only-of-type {\n",
       "        vertical-align: middle;\n",
       "    }\n",
       "\n",
       "    .dataframe tbody tr th {\n",
       "        vertical-align: top;\n",
       "    }\n",
       "\n",
       "    .dataframe thead th {\n",
       "        text-align: right;\n",
       "    }\n",
       "</style>\n",
       "<table border=\"1\" class=\"dataframe\">\n",
       "  <thead>\n",
       "    <tr style=\"text-align: right;\">\n",
       "      <th></th>\n",
       "      <th>age</th>\n",
       "      <th>sex</th>\n",
       "      <th>bmi</th>\n",
       "      <th>children</th>\n",
       "      <th>smoker</th>\n",
       "      <th>charges</th>\n",
       "      <th>region_northwest</th>\n",
       "      <th>region_southeast</th>\n",
       "      <th>region_southwest</th>\n",
       "    </tr>\n",
       "  </thead>\n",
       "  <tbody>\n",
       "    <tr>\n",
       "      <th>0</th>\n",
       "      <td>19</td>\n",
       "      <td>0</td>\n",
       "      <td>27.900</td>\n",
       "      <td>0</td>\n",
       "      <td>1</td>\n",
       "      <td>16884.92400</td>\n",
       "      <td>False</td>\n",
       "      <td>False</td>\n",
       "      <td>True</td>\n",
       "    </tr>\n",
       "    <tr>\n",
       "      <th>1</th>\n",
       "      <td>18</td>\n",
       "      <td>1</td>\n",
       "      <td>33.770</td>\n",
       "      <td>1</td>\n",
       "      <td>0</td>\n",
       "      <td>1725.55230</td>\n",
       "      <td>False</td>\n",
       "      <td>True</td>\n",
       "      <td>False</td>\n",
       "    </tr>\n",
       "    <tr>\n",
       "      <th>2</th>\n",
       "      <td>28</td>\n",
       "      <td>1</td>\n",
       "      <td>33.000</td>\n",
       "      <td>3</td>\n",
       "      <td>0</td>\n",
       "      <td>4449.46200</td>\n",
       "      <td>False</td>\n",
       "      <td>True</td>\n",
       "      <td>False</td>\n",
       "    </tr>\n",
       "    <tr>\n",
       "      <th>3</th>\n",
       "      <td>33</td>\n",
       "      <td>1</td>\n",
       "      <td>22.705</td>\n",
       "      <td>0</td>\n",
       "      <td>0</td>\n",
       "      <td>21984.47061</td>\n",
       "      <td>True</td>\n",
       "      <td>False</td>\n",
       "      <td>False</td>\n",
       "    </tr>\n",
       "    <tr>\n",
       "      <th>4</th>\n",
       "      <td>32</td>\n",
       "      <td>1</td>\n",
       "      <td>28.880</td>\n",
       "      <td>0</td>\n",
       "      <td>0</td>\n",
       "      <td>3866.85520</td>\n",
       "      <td>True</td>\n",
       "      <td>False</td>\n",
       "      <td>False</td>\n",
       "    </tr>\n",
       "  </tbody>\n",
       "</table>\n",
       "</div>"
      ],
      "text/plain": [
       "   age  sex     bmi  children  smoker      charges  region_northwest  \\\n",
       "0   19    0  27.900         0       1  16884.92400             False   \n",
       "1   18    1  33.770         1       0   1725.55230             False   \n",
       "2   28    1  33.000         3       0   4449.46200             False   \n",
       "3   33    1  22.705         0       0  21984.47061              True   \n",
       "4   32    1  28.880         0       0   3866.85520              True   \n",
       "\n",
       "   region_southeast  region_southwest  \n",
       "0             False              True  \n",
       "1              True             False  \n",
       "2              True             False  \n",
       "3             False             False  \n",
       "4             False             False  "
      ]
     },
     "execution_count": 3,
     "metadata": {},
     "output_type": "execute_result"
    }
   ],
   "source": [
    "# Convert categorical variables into numerical format\n",
    "df['sex'] = df['sex'].map({'male': 1, 'female': 0})\n",
    "df['smoker'] = df['smoker'].map({'yes': 1, 'no': 0})\n",
    "\n",
    "# One-hot encode 'region' -> category to number\n",
    "df = pd.get_dummies(df, columns=['region'], drop_first=True) #convert region into 3 new categories (the other left can be 4)\n",
    "\n",
    "# Define features (X) and target variable (y)\n",
    "X = df.drop(columns=['charges'])  # Independent variables\n",
    "y = df['charges']  # Target variable\n",
    "\n",
    "# Log-transform the target\n",
    "y_log = np.log(y)\n",
    "\n",
    "joblib.dump(X, 'X.pkl')\n",
    "joblib.dump(y, 'y.pkl')\n",
    "\n",
    "df.head()"
   ]
  },
  {
   "cell_type": "code",
   "execution_count": 4,
   "id": "9c9c911c",
   "metadata": {},
   "outputs": [],
   "source": [
    "# Function to calculate metrics\n",
    "def calculate_metrics(y_true, y_pred):\n",
    "    rmse = np.sqrt(mean_squared_error(y_true, y_pred))\n",
    "    mae = mean_absolute_error(y_true, y_pred)\n",
    "    r2 = r2_score(y_true, y_pred)\n",
    "    mape = np.mean(np.abs((y_true - y_pred) / y_true)) * 100\n",
    "    return rmse, mae, r2, mape"
   ]
  },
  {
   "cell_type": "code",
   "execution_count": 5,
   "id": "0a126dbb",
   "metadata": {},
   "outputs": [
    {
     "name": "stdout",
     "output_type": "stream",
     "text": [
      "Results for Gradient Boosting:\n",
      "    RMSE=4690.20, MAE=2173.81, R²=0.8499, MAPE=17.05%\n",
      "Training Results for Gradient Boosting:\n",
      "    RMSE=4110.91, MAE=1832.10, R²=0.8847, MAPE=14.36%\n"
     ]
    }
   ],
   "source": [
    "# Gradient Boosting\n",
    "# Models to evaluate\n",
    "gb = GradientBoostingRegressor(n_estimators=100, learning_rate=0.1, max_depth=3, random_state=55)\n",
    "gb.fit(X, y_log)\n",
    "\n",
    "# 5-Fold CV\n",
    "y_true_gb = y  # Actual charges in original scale\n",
    "log_pred_gb = cross_val_predict(gb, X, y_log, cv=5)\n",
    "    \n",
    "y_pred_gb = np.exp(log_pred_gb)\n",
    "rmse, mae, r2, mape = calculate_metrics(y_true_gb, y_pred_gb)\n",
    "\n",
    "r2_gb = r2\n",
    "\n",
    "# Print results\n",
    "print(\"Results for Gradient Boosting:\")\n",
    "print(f\"    RMSE={rmse:.2f}, MAE={mae:.2f}, R²={r2:.4f}, MAPE={mape:.2f}%\")\n",
    "\n",
    "train_log_pred_gb = gb.predict(X)\n",
    "train_y_pred_gb = np.exp(train_log_pred_gb)\n",
    "train_rmse, train_mae, train_r2, train_mape = calculate_metrics(y_true_gb, train_y_pred_gb)\n",
    "print(\"Training Results for Gradient Boosting:\")\n",
    "print(f\"    RMSE={train_rmse:.2f}, MAE={train_mae:.2f}, R²={train_r2:.4f}, MAPE={train_mape:.2f}%\")"
   ]
  },
  {
   "cell_type": "code",
   "execution_count": 6,
   "id": "539b1bbe",
   "metadata": {},
   "outputs": [
    {
     "name": "stdout",
     "output_type": "stream",
     "text": [
      "Results for XGBoost:\n",
      "    RMSE=4596.56, MAE=2138.65, R²=0.8558, MAPE=16.85%\n",
      "Training Results for XGBoost:\n",
      "    RMSE=4199.03, MAE=1884.62, R²=0.8797, MAPE=14.73%\n"
     ]
    }
   ],
   "source": [
    "# XGBoost\n",
    "# Models to evaluate\n",
    "xgb = xgb_model.XGBRegressor(n_estimators=100, learning_rate=0.1, max_depth=3, random_state=55)\n",
    "xgb.fit(X, y_log)\n",
    "\n",
    "# 5-Fold CV\n",
    "y_true_xgb = y  # Actual charges in original scale\n",
    "log_pred_xgb = cross_val_predict(xgb, X, y_log, cv=5)\n",
    "    \n",
    "y_pred_xgb = np.exp(log_pred_xgb)\n",
    "rmse, mae, r2, mape = calculate_metrics(y_true_xgb, y_pred_xgb)\n",
    "\n",
    "r2_xgb = r2\n",
    "\n",
    "# Print results\n",
    "print(\"Results for XGBoost:\")\n",
    "print(f\"    RMSE={rmse:.2f}, MAE={mae:.2f}, R²={r2:.4f}, MAPE={mape:.2f}%\")\n",
    "\n",
    "train_log_pred_xgb = xgb.predict(X)\n",
    "train_y_pred_xgb = np.exp(train_log_pred_xgb)\n",
    "train_rmse, train_mae, train_r2, train_mape = calculate_metrics(y_true_xgb, train_y_pred_xgb)\n",
    "print(\"Training Results for XGBoost:\")\n",
    "print(f\"    RMSE={train_rmse:.2f}, MAE={train_mae:.2f}, R²={train_r2:.4f}, MAPE={train_mape:.2f}%\")"
   ]
  },
  {
   "cell_type": "code",
   "execution_count": 7,
   "id": "97dbee7f",
   "metadata": {},
   "outputs": [
    {
     "name": "stdout",
     "output_type": "stream",
     "text": [
      "Results for LightGBM:\n",
      "    RMSE=4631.93, MAE=2165.67, R²=0.8536, MAPE=16.68%\n",
      "Training Results for LightGBM:\n",
      "    RMSE=4254.42, MAE=1923.80, R²=0.8765, MAPE=14.99%\n"
     ]
    }
   ],
   "source": [
    "# LightGBM\n",
    "# Models to evaluate\n",
    "lgb = lgb_model.LGBMRegressor(n_estimators=100, learning_rate=0.1, max_depth=3, random_state=55, verbose=-1)\n",
    "lgb.fit(X, y_log)\n",
    "\n",
    "# 5-Fold CV\n",
    "y_true_lgb = y  # Actual charges in original scale\n",
    "log_pred_lgb = cross_val_predict(lgb, X, y_log, cv=5)\n",
    "    \n",
    "y_pred_lgb = np.exp(log_pred_lgb)\n",
    "rmse, mae, r2, mape = calculate_metrics(y_true_lgb, y_pred_lgb)\n",
    "\n",
    "r2_lgb = r2\n",
    "\n",
    "# Print results\n",
    "print(\"Results for LightGBM:\")\n",
    "print(f\"    RMSE={rmse:.2f}, MAE={mae:.2f}, R²={r2:.4f}, MAPE={mape:.2f}%\")\n",
    "\n",
    "train_log_pred_lgb = lgb.predict(X)\n",
    "train_y_pred_lgb = np.exp(train_log_pred_lgb)\n",
    "train_rmse, train_mae, train_r2, train_mape = calculate_metrics(y_true_lgb, train_y_pred_lgb)\n",
    "print(\"Training Results for LightGBM:\")\n",
    "print(f\"    RMSE={train_rmse:.2f}, MAE={train_mae:.2f}, R²={train_r2:.4f}, MAPE={train_mape:.2f}%\")"
   ]
  },
  {
   "cell_type": "code",
   "execution_count": 8,
   "id": "52912dc7",
   "metadata": {},
   "outputs": [
    {
     "name": "stdout",
     "output_type": "stream",
     "text": [
      "Results for Ensemble:\n",
      "    RMSE=4604.84, MAE=2145.24, R²=0.8553, MAPE=16.77%\n"
     ]
    }
   ],
   "source": [
    "# Ensemble (Weighting average)\n",
    "# Calculate weights\n",
    "w_gb = r2_gb/(r2_gb + r2_xgb + r2_lgb)\n",
    "w_xgb = r2_xgb/(r2_gb + r2_xgb + r2_lgb)\n",
    "w_lgb = r2_lgb/(r2_gb + r2_xgb + r2_lgb)\n",
    "\n",
    "# Ensemble\n",
    "y_pred_ensemble = w_gb*y_pred_gb + w_xgb*y_pred_xgb + w_lgb*y_pred_lgb\n",
    "rmse, mae, r2, mape = calculate_metrics(y, y_pred_ensemble)\n",
    "\n",
    "# Print results\n",
    "print(\"Results for Ensemble:\")\n",
    "print(f\"    RMSE={rmse:.2f}, MAE={mae:.2f}, R²={r2:.4f}, MAPE={mape:.2f}%\")\n"
   ]
  },
  {
   "cell_type": "code",
   "execution_count": 9,
   "id": "4f386970",
   "metadata": {
    "scrolled": true
   },
   "outputs": [
    {
     "data": {
      "text/plain": [
       "['ensemble_weights.pkl']"
      ]
     },
     "execution_count": 9,
     "metadata": {},
     "output_type": "execute_result"
    }
   ],
   "source": [
    "# Save models and scaler\n",
    "joblib.dump(gb, 'gb_model.pkl')\n",
    "joblib.dump(xgb, 'xgb_model.pkl')\n",
    "joblib.dump(lgb, 'lgb_model.pkl')\n",
    "\n",
    "# Save weights for ensemble\n",
    "weights = {'w_gb': w_gb, 'w_xgb': w_xgb, 'w_lgb': w_lgb}\n",
    "joblib.dump(weights, 'ensemble_weights.pkl')"
   ]
  },
  {
   "cell_type": "code",
   "execution_count": 517,
   "id": "ea404821",
   "metadata": {},
   "outputs": [
    {
     "name": "stdout",
     "output_type": "stream",
     "text": [
      "{'age': 63, 'bmi': 37.7, 'children': 0, 'smoker': 1, 'sex': 1, 'region_northwest': 0, 'region_southeast': 0, 'region_southwest': 0}\n",
      "Estimated value (GB): $52764.05\n",
      "Estimated value (XGB): $51318.18\n",
      "Estimated value (LGB): $52388.83\n",
      "Estimated value (Ensemble): $52151.80\n"
     ]
    }
   ],
   "source": [
    "# Example: new person data as dictionary\n",
    "new_person = {\n",
    "    'age': 63,\n",
    "    'bmi': 37.7,\n",
    "    'children': 0,\n",
    "    'smoker': 1,\n",
    "    'sex': 1,\n",
    "    'region_northwest': 0,\n",
    "    'region_southeast': 0,\n",
    "    'region_southwest': 0\n",
    "}\n",
    "\n",
    "# Convert to DataFrame and reorder columns to match training data\n",
    "new_X = pd.DataFrame([new_person])\n",
    "new_X = new_X[X.columns]  # Reorder columns to match X\n",
    "\n",
    "# Predict log-transformed output for each model\n",
    "log_gb = gb.predict(new_X)\n",
    "log_xgb = xgb.predict(new_X)\n",
    "log_lgb = lgb.predict(new_X)\n",
    "\n",
    "# Combine with weights (already calculated)\n",
    "log_ensemble = w_gb * log_gb + w_xgb * log_xgb + w_lgb * log_lgb\n",
    "\n",
    "# Convert back to original scale\n",
    "gb_prediction = np.exp(log_gb)\n",
    "xgb_prediction = np.exp(log_xgb)\n",
    "lgb_prediction = np.exp(log_lgb)\n",
    "ensemble_prediction = np.exp(log_ensemble)\n",
    "print(new_person)\n",
    "print(f\"Estimated value (GB): ${gb_prediction[0]:.2f}\")\n",
    "print(f\"Estimated value (XGB): ${xgb_prediction[0]:.2f}\")\n",
    "print(f\"Estimated value (LGB): ${lgb_prediction[0]:.2f}\")\n",
    "print(f\"Estimated value (Ensemble): ${ensemble_prediction[0]:.2f}\")\n"
   ]
  },
  {
   "cell_type": "code",
   "execution_count": 518,
   "id": "da91f057",
   "metadata": {},
   "outputs": [
    {
     "name": "stdout",
     "output_type": "stream",
     "text": [
      "[19876.23905086  2175.03468889  5472.05687917 ...  2017.59555095\n",
      "  2108.35740048 28077.91006358]\n",
      "Total claim cost prediction: $16922304.12\n"
     ]
    }
   ],
   "source": [
    "# Total claim cost prediction\n",
    "log_gb_total = gb.predict(X)\n",
    "log_xgb_total = xgb.predict(X)\n",
    "log_lgb_total = lgb.predict(X)\n",
    "\n",
    "log_ensemble_total = w_gb * log_gb_total + w_xgb * log_xgb_total + w_lgb * log_lgb_total\n",
    "\n",
    "ensemble_prediction_total = np.exp(log_ensemble_total)\n",
    "\n",
    "print(f\"Total claim cost prediction: ${sum(ensemble_prediction_total):.2f}\")"
   ]
  },
  {
   "cell_type": "code",
   "execution_count": 495,
   "id": "a103a72d",
   "metadata": {},
   "outputs": [
    {
     "name": "stdout",
     "output_type": "stream",
     "text": [
      "Upper bound cost (Bootstrapping): $55644.85\n"
     ]
    }
   ],
   "source": [
    "# Assume X, y_log, gb (your base mean/median model) are loaded\n",
    "\n",
    "def get_bootstrap_prediction_upper_bound(model, X_train, y_train, new_X_input, num_bootstraps=500, alpha=0.95):\n",
    "    bootstrap_predictions = []\n",
    "    n_samples = X_train.shape[0]\n",
    "\n",
    "    for _ in range(num_bootstraps):\n",
    "        # 1. Resample the training data with replacement\n",
    "        # Get random indices for this bootstrap sample\n",
    "        bootstrap_indices = np.random.choice(n_samples, n_samples, replace=True)\n",
    "        X_boot = X_train.iloc[bootstrap_indices]\n",
    "        y_boot = y_train.iloc[bootstrap_indices] # Use .iloc for Series/DataFrame\n",
    "\n",
    "        # 2. Train a new model on each bootstrap sample\n",
    "        # IMPORTANT: Create a NEW instance of the model for each bootstrap\n",
    "        # Use the same hyperparameters as your best base model (e.g., gb_model)\n",
    "        if model == 'gb':\n",
    "            boot_model = GradientBoostingRegressor(n_estimators=100, learning_rate=0.1, max_depth=3,\n",
    "                                               loss='squared_error', random_state=np.random.randint(0, 10000)) # Random seed for each model\n",
    "            boot_model.fit(X_boot, y_boot)\n",
    "        elif model == 'xgb':\n",
    "            boot_model = xgb_model.XGBRegressor(n_estimators=100, learning_rate=0.1, max_depth=3,\n",
    "                                               loss='squared_error', random_state=np.random.randint(0, 10000)) # Random seed for each model\n",
    "            boot_model.fit(X_boot, y_boot)\n",
    "        elif model == 'lgb':\n",
    "            boot_model = lgb_model.XGBRegressor(n_estimators=100, learning_rate=0.1, max_depth=3,\n",
    "                                               loss='squared_error', random_state=np.random.randint(0, 10000)) # Random seed for each model\n",
    "            boot_model.fit(X_boot, y_boot)\n",
    "        # 3. Predict for the new data point\n",
    "        # Ensure new_X_input is in the correct DataFrame format\n",
    "        pred_log = boot_model.predict(new_X_input)[0]\n",
    "        bootstrap_predictions.append(np.exp(pred_log)) # Store exponentiated predictions\n",
    "\n",
    "    # 4. Calculate the desired quantile (upper bound)\n",
    "    upper_bound_value = np.percentile(bootstrap_predictions, alpha * 100)\n",
    "    return upper_bound_value, bootstrap_predictions # Return predictions list for plotting distribution\n",
    "\n",
    "# Example usage in your Streamlit app after 'Predict Individual' button is pressed:\n",
    "# Ensure new_X is prepared as a DataFrame (1 row, correct columns)\n",
    "# new_X (from Streamlit inputs)\n",
    "# Assuming gb_model is loaded as 'gb'\n",
    "# Assuming X, y_log are loaded as the full training data\n",
    "\n",
    "# Example:\n",
    "bootstrap_ub, all_bootstrap_preds = get_bootstrap_prediction_upper_bound('gb', X, y_log, new_X, num_bootstraps=500, alpha=0.95)\n",
    "print(f\"Upper bound cost (Bootstrapping): ${bootstrap_ub:.2f}\")\n"
   ]
  },
  {
   "cell_type": "code",
   "execution_count": null,
   "id": "7a7c3bdf",
   "metadata": {},
   "outputs": [],
   "source": []
  }
 ],
 "metadata": {
  "kernelspec": {
   "display_name": "Python 3 (ipykernel)",
   "language": "python",
   "name": "python3"
  },
  "language_info": {
   "codemirror_mode": {
    "name": "ipython",
    "version": 3
   },
   "file_extension": ".py",
   "mimetype": "text/x-python",
   "name": "python",
   "nbconvert_exporter": "python",
   "pygments_lexer": "ipython3",
   "version": "3.11.4"
  }
 },
 "nbformat": 4,
 "nbformat_minor": 5
}
